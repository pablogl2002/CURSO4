{
  "cells": [
    {
      "cell_type": "markdown",
      "source": [
        "Cats vs Dogs"
      ],
      "metadata": {
        "id": "1d-8AE9fkNpS"
      }
    },
    {
      "cell_type": "code",
      "execution_count": null,
      "metadata": {
        "id": "HcPgvppkeYWU"
      },
      "outputs": [],
      "source": [
        "import tensorflow as tf\n",
        "import tensorflow_datasets as tfds\n",
        "train_data, test_data = tfds.load('cats_vs_dogs', split=['train[:80%]', 'train[80%:]'], as_supervised=True)\n",
        "train_size = len(train_data)"
      ]
    },
    {
      "cell_type": "code",
      "execution_count": null,
      "metadata": {
        "id": "5kp__kKoeYWW"
      },
      "outputs": [],
      "source": [
        "from keras.applications.efficientnet import preprocess_input\n",
        "\n",
        "img_size = (299, 299)\n",
        "num_classes = 2\n",
        "\n",
        "def preprocess(image, label):\n",
        "    image = tf.image.resize(image, img_size)\n",
        "    image = tf.cast(image, tf.float32)\n",
        "    image = preprocess_input(image)\n",
        "    label = tf.one_hot(label, num_classes)\n",
        "    return image, label"
      ]
    },
    {
      "cell_type": "code",
      "execution_count": null,
      "metadata": {
        "id": "OTtFQegGeYWX"
      },
      "outputs": [],
      "source": [
        "train_data = train_data.map(preprocess)\n",
        "test_data = test_data.map(preprocess)"
      ]
    },
    {
      "cell_type": "code",
      "execution_count": null,
      "metadata": {
        "id": "3AqhGYNieYWX"
      },
      "outputs": [],
      "source": [
        "train_size = int(0.8 * train_size)\n",
        "train_dataset = train_data.take(train_size)\n",
        "val_dataset = train_data.skip(train_size)\n",
        "test_dataset = test_data\n",
        "\n",
        "print(len(train_dataset),len(val_dataset))"
      ]
    },
    {
      "cell_type": "code",
      "execution_count": null,
      "metadata": {
        "id": "dMoJ5z3SeYWX"
      },
      "outputs": [],
      "source": [
        "from keras.applications.efficientnet import EfficientNetB7\n",
        "\n",
        "model = EfficientNetB7(input_shape=img_size + (3,),include_top=False, weights='imagenet')\n",
        "#model.summary()"
      ]
    },
    {
      "cell_type": "markdown",
      "metadata": {
        "id": "FUbBwi1oeYWX"
      },
      "source": [
        "Preparacion del modelo pre-entrenado"
      ]
    },
    {
      "cell_type": "code",
      "execution_count": null,
      "metadata": {
        "id": "k24FQOp2eYWY"
      },
      "outputs": [],
      "source": [
        "from keras.layers import GlobalAveragePooling2D, Dense, Dropout\n",
        "from keras.models import Model\n",
        "\n",
        "for layer in model.layers:\n",
        "    layer.trainable = False\n",
        "\n",
        "x = GlobalAveragePooling2D()(model.output)\n",
        "x = Dense(1024, activation='relu')(x)\n",
        "x = Dropout(0.5)(x)\n",
        "output = Dense(num_classes, activation='softmax')(x)\n",
        "\n",
        "model = Model(inputs=model.input, outputs=output)\n",
        "\n",
        "#model.summary()"
      ]
    },
    {
      "cell_type": "code",
      "execution_count": null,
      "metadata": {
        "id": "6PWItxjaeYWY"
      },
      "outputs": [],
      "source": [
        "from keras.optimizers import Adam\n",
        "\n",
        "opt=Adam(learning_rate=0.001)\n",
        "model.compile(loss='categorical_crossentropy',\n",
        "            optimizer=opt,\n",
        "            metrics=['accuracy'])"
      ]
    },
    {
      "cell_type": "code",
      "execution_count": null,
      "metadata": {
        "id": "IFKXDb3XeYWZ"
      },
      "outputs": [],
      "source": [
        "from keras.callbacks import ReduceLROnPlateau, ModelCheckpoint\n",
        "from keras.models import load_model\n",
        "\n",
        "reduce_lr = ReduceLROnPlateau(monitor='val_loss', factor=0.2, patience=2, min_lr=0.00001)\n",
        "checkpoint = ModelCheckpoint(filepath='best_model.h5', monitor='val_accuracy', save_best_only=True, verbose=1)\n",
        "\n",
        "epochs=1\n",
        "batch_size=32\n",
        "train_dataset_batched = train_dataset.batch(batch_size).prefetch(tf.data.AUTOTUNE)\n",
        "val_dataset_batched = val_dataset.batch(batch_size).prefetch(tf.data.AUTOTUNE)\n",
        "history = model.fit(train_dataset_batched,\n",
        "                    epochs=epochs,\n",
        "                    verbose=1,\n",
        "                    validation_data=val_dataset_batched,\n",
        "                    callbacks=[reduce_lr,checkpoint])"
      ]
    },
    {
      "cell_type": "code",
      "execution_count": null,
      "metadata": {
        "id": "gfmSWb0NeYWZ"
      },
      "outputs": [],
      "source": [
        "model = load_model('best_model.h5')\n",
        "test_dataset_batched = test_dataset.batch(batch_size).prefetch(tf.data.AUTOTUNE)\n",
        "score = model.evaluate(test_dataset_batched, verbose=0)\n",
        "print(f'Test loss: {score[0]*100:.2f}')\n",
        "print(f'Test accuracy: {score[1]*100:.2f}')"
      ]
    },
    {
      "cell_type": "markdown",
      "source": [
        "citrus_leaves"
      ],
      "metadata": {
        "id": "d2ycluUSkWiQ"
      }
    },
    {
      "cell_type": "code",
      "execution_count": 27,
      "metadata": {
        "id": "g0KftIJMk81t"
      },
      "outputs": [],
      "source": [
        "import tensorflow as tf\n",
        "import tensorflow_datasets as tfds\n",
        "train_data, test_data = tfds.load('citrus_leaves', split=['train[:80%]', 'train[80%:]'], as_supervised=True)\n",
        "train_size = len(train_data)"
      ]
    },
    {
      "cell_type": "code",
      "execution_count": 28,
      "metadata": {
        "id": "kZnAq7PQk812"
      },
      "outputs": [],
      "source": [
        "from keras.applications.efficientnet import preprocess_input\n",
        "\n",
        "img_size = (256, 256)\n",
        "num_classes = 4\n",
        "\n",
        "def preprocess(image, label):\n",
        "    image = tf.image.resize(image, img_size)\n",
        "    image = tf.cast(image, tf.float32)\n",
        "    image = preprocess_input(image)\n",
        "    label = tf.one_hot(label, num_classes)\n",
        "    return image, label"
      ]
    },
    {
      "cell_type": "code",
      "execution_count": 29,
      "metadata": {
        "id": "jEn6lTSak812"
      },
      "outputs": [],
      "source": [
        "train_data = train_data.map(preprocess)\n",
        "test_data = test_data.map(preprocess)"
      ]
    },
    {
      "cell_type": "code",
      "execution_count": 30,
      "metadata": {
        "colab": {
          "base_uri": "https://localhost:8080/"
        },
        "outputId": "2c6f0bf9-8c6e-4052-aba5-1c477dc1aba1",
        "id": "NM5JtmGKk812"
      },
      "outputs": [
        {
          "output_type": "stream",
          "name": "stdout",
          "text": [
            "380 95\n"
          ]
        }
      ],
      "source": [
        "train_size = int(0.8 * train_size)\n",
        "train_dataset = train_data.take(train_size)\n",
        "val_dataset = train_data.skip(train_size)\n",
        "test_dataset = test_data\n",
        "\n",
        "print(len(train_dataset),len(val_dataset))"
      ]
    },
    {
      "cell_type": "code",
      "execution_count": 32,
      "metadata": {
        "colab": {
          "base_uri": "https://localhost:8080/"
        },
        "id": "nNZ1TbbSk813",
        "outputId": "a6b0b1ec-3b0e-46aa-c176-d1b010717830"
      },
      "outputs": [
        {
          "output_type": "stream",
          "name": "stdout",
          "text": [
            "Downloading data from https://storage.googleapis.com/tensorflow/keras-applications/efficientnet_v2/efficientnetv2-s_notop.h5\n",
            "82420632/82420632 [==============================] - 0s 0us/step\n"
          ]
        }
      ],
      "source": [
        "from keras.applications.efficientnet_v2 import EfficientNetV2S\n",
        "\n",
        "model = EfficientNetV2S(input_shape=img_size + (3,),include_top=False, weights='imagenet')\n",
        "#model.summary()"
      ]
    },
    {
      "cell_type": "markdown",
      "metadata": {
        "id": "Ki-jZxE6k813"
      },
      "source": [
        "Preparacion del modelo pre-entrenado"
      ]
    },
    {
      "cell_type": "code",
      "execution_count": 33,
      "metadata": {
        "id": "g2joHxdik813"
      },
      "outputs": [],
      "source": [
        "from keras.layers import GlobalAveragePooling2D, Dense, Dropout\n",
        "from keras.models import Model\n",
        "\n",
        "for layer in model.layers:\n",
        "    layer.trainable = False\n",
        "\n",
        "x = GlobalAveragePooling2D()(model.output)\n",
        "x = Dense(1024, activation='relu')(x)\n",
        "x = Dropout(0.5)(x)\n",
        "output = Dense(num_classes, activation='softmax')(x)\n",
        "\n",
        "model = Model(inputs=model.input, outputs=output)\n",
        "\n",
        "#model.summary()"
      ]
    },
    {
      "cell_type": "code",
      "execution_count": 34,
      "metadata": {
        "id": "ma64Vg4Ek813"
      },
      "outputs": [],
      "source": [
        "from keras.optimizers import AdamW\n",
        "\n",
        "opt=AdamW(learning_rate=0.001)\n",
        "model.compile(loss='categorical_crossentropy',\n",
        "            optimizer=opt,\n",
        "            metrics=['accuracy'])"
      ]
    },
    {
      "cell_type": "code",
      "execution_count": 35,
      "metadata": {
        "colab": {
          "base_uri": "https://localhost:8080/"
        },
        "id": "kPzpADV-k813",
        "outputId": "474b2860-627b-41be-d2da-1ec0c86731bf"
      },
      "outputs": [
        {
          "output_type": "stream",
          "name": "stdout",
          "text": [
            "Epoch 1/5\n",
            "12/12 [==============================] - ETA: 0s - loss: 1.0275 - accuracy: 0.5500\n",
            "Epoch 1: val_accuracy improved from -inf to 0.78947, saving model to best_model.h5\n"
          ]
        },
        {
          "output_type": "stream",
          "name": "stderr",
          "text": [
            "/usr/local/lib/python3.10/dist-packages/keras/src/engine/training.py:3103: UserWarning: You are saving your model as an HDF5 file via `model.save()`. This file format is considered legacy. We recommend using instead the native Keras format, e.g. `model.save('my_model.keras')`.\n",
            "  saving_api.save_model(\n"
          ]
        },
        {
          "output_type": "stream",
          "name": "stdout",
          "text": [
            "\b\b\b\b\b\b\b\b\b\b\b\b\b\b\b\b\b\b\b\b\b\b\b\b\b\b\b\b\b\b\b\b\b\b\b\b\b\b\b\b\b\b\b\b\b\b\b\b\b\b\b\b\b\b\b\b\b\b\b\b\b\b\b\b\b\b\b\b\b\b\b\b\b\b\b\b\b\b\b\b\b\b\r12/12 [==============================] - 28s 1s/step - loss: 1.0275 - accuracy: 0.5500 - val_loss: 0.5523 - val_accuracy: 0.7895 - lr: 0.0010\n",
            "Epoch 2/5\n",
            "12/12 [==============================] - ETA: 0s - loss: 0.4445 - accuracy: 0.8316\n",
            "Epoch 2: val_accuracy improved from 0.78947 to 0.82105, saving model to best_model.h5\n",
            "12/12 [==============================] - 3s 296ms/step - loss: 0.4445 - accuracy: 0.8316 - val_loss: 0.4788 - val_accuracy: 0.8211 - lr: 0.0010\n",
            "Epoch 3/5\n",
            "12/12 [==============================] - ETA: 0s - loss: 0.3357 - accuracy: 0.8763\n",
            "Epoch 3: val_accuracy improved from 0.82105 to 0.87368, saving model to best_model.h5\n",
            "12/12 [==============================] - 3s 292ms/step - loss: 0.3357 - accuracy: 0.8763 - val_loss: 0.3960 - val_accuracy: 0.8737 - lr: 0.0010\n",
            "Epoch 4/5\n",
            "12/12 [==============================] - ETA: 0s - loss: 0.2956 - accuracy: 0.8737\n",
            "Epoch 4: val_accuracy did not improve from 0.87368\n",
            "12/12 [==============================] - 3s 229ms/step - loss: 0.2956 - accuracy: 0.8737 - val_loss: 0.3656 - val_accuracy: 0.8737 - lr: 0.0010\n",
            "Epoch 5/5\n",
            "12/12 [==============================] - ETA: 0s - loss: 0.2395 - accuracy: 0.9105\n",
            "Epoch 5: val_accuracy did not improve from 0.87368\n",
            "12/12 [==============================] - 3s 211ms/step - loss: 0.2395 - accuracy: 0.9105 - val_loss: 0.3851 - val_accuracy: 0.8737 - lr: 0.0010\n"
          ]
        }
      ],
      "source": [
        "from keras.callbacks import ReduceLROnPlateau, ModelCheckpoint\n",
        "from keras.models import load_model\n",
        "\n",
        "reduce_lr = ReduceLROnPlateau(monitor='val_loss', factor=0.2, patience=2, min_lr=0.00001)\n",
        "checkpoint = ModelCheckpoint(filepath='best_model.h5', monitor='val_accuracy', save_best_only=True, verbose=1)\n",
        "\n",
        "epochs=5\n",
        "batch_size=32\n",
        "train_dataset_batched = train_dataset.batch(batch_size).prefetch(tf.data.AUTOTUNE)\n",
        "val_dataset_batched = val_dataset.batch(batch_size).prefetch(tf.data.AUTOTUNE)\n",
        "history = model.fit(train_dataset_batched,\n",
        "                    epochs=epochs,\n",
        "                    verbose=1,\n",
        "                    validation_data=val_dataset_batched,\n",
        "                    callbacks=[reduce_lr,checkpoint])"
      ]
    },
    {
      "cell_type": "code",
      "execution_count": 36,
      "metadata": {
        "colab": {
          "base_uri": "https://localhost:8080/"
        },
        "id": "l5Sk98X7k813",
        "outputId": "115c11fa-c688-4402-ca1f-924a4b6b9656"
      },
      "outputs": [
        {
          "output_type": "stream",
          "name": "stdout",
          "text": [
            "Test loss: 32.47\n",
            "Test accuracy: 87.39\n"
          ]
        }
      ],
      "source": [
        "model = load_model('best_model.h5')\n",
        "test_dataset_batched = test_dataset.batch(batch_size).prefetch(tf.data.AUTOTUNE)\n",
        "score = model.evaluate(test_dataset_batched, verbose=0)\n",
        "print(f'Test loss: {score[0]*100:.2f}')\n",
        "print(f'Test accuracy: {score[1]*100:.2f}')"
      ]
    }
  ],
  "metadata": {
    "accelerator": "GPU",
    "colab": {
      "gpuType": "T4",
      "provenance": []
    },
    "kernelspec": {
      "display_name": "Python 3",
      "name": "python3"
    },
    "language_info": {
      "codemirror_mode": {
        "name": "ipython",
        "version": 3
      },
      "file_extension": ".py",
      "mimetype": "text/x-python",
      "name": "python",
      "nbconvert_exporter": "python",
      "pygments_lexer": "ipython3",
      "version": "3.10.12"
    },
    "orig_nbformat": 4
  },
  "nbformat": 4,
  "nbformat_minor": 0
}